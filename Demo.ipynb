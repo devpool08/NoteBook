{
 "cells": [
  {
   "metadata": {
    "ExecuteTime": {
     "end_time": "2025-08-08T09:41:48.488279Z",
     "start_time": "2025-08-08T09:41:48.446068Z"
    }
   },
   "cell_type": "code",
   "source": [
    "lst = [x for x in range(200, 99, -1) if x % 3 == 0]\n",
    "print(lst)\n",
    "l = [x for x in range(100, 201) if x % 3 == 0]\n",
    "print(l.reverse())"
   ],
   "id": "67b1a79aa9217f09",
   "outputs": [
    {
     "name": "stdout",
     "output_type": "stream",
     "text": [
      "[198, 195, 192, 189, 186, 183, 180, 177, 174, 171, 168, 165, 162, 159, 156, 153, 150, 147, 144, 141, 138, 135, 132, 129, 126, 123, 120, 117, 114, 111, 108, 105, 102]\n",
      "None\n"
     ]
    }
   ],
   "execution_count": 52
  },
  {
   "metadata": {
    "ExecuteTime": {
     "end_time": "2025-08-08T09:41:52.294473Z",
     "start_time": "2025-08-08T09:41:48.561166Z"
    }
   },
   "cell_type": "code",
   "source": [
    "n = int(input(\"Enter the no of elements: \"))\n",
    "#Multiplication table\n",
    "i = 1\n",
    "for i in range(11):\n",
    "    print(n, \"X\", i, \"=\", n * i, end=\" \")\n",
    "    print()"
   ],
   "id": "ff307486f56ef804",
   "outputs": [
    {
     "name": "stdout",
     "output_type": "stream",
     "text": [
      "11 X 0 = 0 \n",
      "11 X 1 = 11 \n",
      "11 X 2 = 22 \n",
      "11 X 3 = 33 \n",
      "11 X 4 = 44 \n",
      "11 X 5 = 55 \n",
      "11 X 6 = 66 \n",
      "11 X 7 = 77 \n",
      "11 X 8 = 88 \n",
      "11 X 9 = 99 \n",
      "11 X 10 = 110 \n"
     ]
    }
   ],
   "execution_count": 53
  },
  {
   "metadata": {
    "ExecuteTime": {
     "end_time": "2025-08-08T09:41:52.471819Z",
     "start_time": "2025-08-08T09:41:52.464755Z"
    }
   },
   "cell_type": "code",
   "source": [
    "#star pattern print using one for loop\n",
    "s = 5\n",
    "for i in range(6):\n",
    "    print(\"*\" * s)\n",
    "    s -= 1"
   ],
   "id": "1d3c1accad993d47",
   "outputs": [
    {
     "name": "stdout",
     "output_type": "stream",
     "text": [
      "*****\n",
      "****\n",
      "***\n",
      "**\n",
      "*\n",
      "\n"
     ]
    }
   ],
   "execution_count": 54
  },
  {
   "metadata": {
    "ExecuteTime": {
     "end_time": "2025-08-08T10:03:13.008876Z",
     "start_time": "2025-08-08T10:02:44.748331Z"
    }
   },
   "cell_type": "code",
   "source": [
    "n = int(input(\"Enter the no of elements: \"))\n",
    "b = True\n",
    "if n == 0 or n == 1:\n",
    "    print(\"can't say\")\n",
    "    b = False\n",
    "else:\n",
    "    for i in range(2, n):\n",
    "        if n == 2:\n",
    "            break\n",
    "        if n % i == 0:\n",
    "            b = False\n",
    "            print(\"No\")\n",
    "            break\n",
    "\n",
    "if b:\n",
    "    print(\"Yes\")"
   ],
   "id": "43ee5bffaa4af1d9",
   "outputs": [
    {
     "name": "stdout",
     "output_type": "stream",
     "text": [
      "Yes\n"
     ]
    }
   ],
   "execution_count": 70
  },
  {
   "metadata": {
    "ExecuteTime": {
     "end_time": "2025-08-08T11:09:39.407344Z",
     "start_time": "2025-08-08T11:09:39.361613Z"
    }
   },
   "cell_type": "code",
   "source": [
    "i = 200\n",
    "while i > 99:\n",
    "    if i % 5 == 0:\n",
    "        print(i, end=\" \")\n",
    "    i -= 1\n",
    "print()\n"
   ],
   "id": "f6335cd07832fce9",
   "outputs": [
    {
     "name": "stdout",
     "output_type": "stream",
     "text": [
      "200 195 190 185 180 175 170 165 160 155 150 145 140 135 130 125 120 115 110 105 100 \n"
     ]
    }
   ],
   "execution_count": 78
  },
  {
   "metadata": {
    "ExecuteTime": {
     "end_time": "2025-08-13T09:24:41.515766Z",
     "start_time": "2025-08-13T09:24:41.371205Z"
    }
   },
   "cell_type": "code",
   "source": [
    "import numpy as np\n",
    "simple_image = np.array([\n",
    "    [0, 50, 100, 150, 200],\n",
    "    [25, 75, 125, 175, 225],\n",
    "    [50, 100, 150, 200, 255],\n",
    "    [75, 125, 175, 225, 200],\n",
    "    [100, 150, 200, 150, 100]\n",
    "])\n",
    "simple_image[:,0::2]"
   ],
   "id": "856e5e2e62ff4295",
   "outputs": [
    {
     "data": {
      "text/plain": [
       "array([[  0, 100, 200],\n",
       "       [ 25, 125, 225],\n",
       "       [ 50, 150, 255],\n",
       "       [ 75, 175, 200],\n",
       "       [100, 200, 100]])"
      ]
     },
     "execution_count": 3,
     "metadata": {},
     "output_type": "execute_result"
    }
   ],
   "execution_count": 3
  },
  {
   "metadata": {
    "ExecuteTime": {
     "end_time": "2025-08-13T09:26:23.358016Z",
     "start_time": "2025-08-13T09:26:23.351539Z"
    }
   },
   "cell_type": "code",
   "source": "simple_image[1::2,1::2]",
   "id": "9d1702a3fcd11e94",
   "outputs": [
    {
     "data": {
      "text/plain": [
       "array([[ 75, 175],\n",
       "       [125, 225]])"
      ]
     },
     "execution_count": 5,
     "metadata": {},
     "output_type": "execute_result"
    }
   ],
   "execution_count": 5
  },
  {
   "metadata": {
    "ExecuteTime": {
     "end_time": "2025-08-13T10:02:27.392294Z",
     "start_time": "2025-08-13T10:02:27.388573Z"
    }
   },
   "cell_type": "code",
   "source": [
    "import pandas as pd\n",
    "import sqlite3 as sql3"
   ],
   "id": "1cefce8dcff5b6c2",
   "outputs": [],
   "execution_count": 7
  },
  {
   "metadata": {
    "ExecuteTime": {
     "end_time": "2025-08-13T10:08:06.751341Z",
     "start_time": "2025-08-13T10:08:06.739088Z"
    }
   },
   "cell_type": "code",
   "source": [
    "connection=sql3.connect(\"data/inputs/Users.sqlite\")\n",
    "df=pd.read_sql_query(\"SELECT * FROM Main.Users\", connection)\n",
    "df"
   ],
   "id": "d5632b80880d7de6",
   "outputs": [
    {
     "data": {
      "text/plain": [
       "   id          name              email  age           created_at\n",
       "0   1      John Doe   john@example.com   25  2025-08-13 09:58:37\n",
       "1   2    Jane Smith   jane@example.com   30  2025-08-13 09:58:37\n",
       "2   3    Bob Wilson    bob@example.com   35  2025-08-13 09:58:37\n",
       "3   4   Alice Brown  alice@example.com   28  2025-08-13 09:58:37\n",
       "4   5  Mike Johnson   mike@example.com   32  2025-08-13 09:58:37"
      ],
      "text/html": [
       "<div>\n",
       "<style scoped>\n",
       "    .dataframe tbody tr th:only-of-type {\n",
       "        vertical-align: middle;\n",
       "    }\n",
       "\n",
       "    .dataframe tbody tr th {\n",
       "        vertical-align: top;\n",
       "    }\n",
       "\n",
       "    .dataframe thead th {\n",
       "        text-align: right;\n",
       "    }\n",
       "</style>\n",
       "<table border=\"1\" class=\"dataframe\">\n",
       "  <thead>\n",
       "    <tr style=\"text-align: right;\">\n",
       "      <th></th>\n",
       "      <th>id</th>\n",
       "      <th>name</th>\n",
       "      <th>email</th>\n",
       "      <th>age</th>\n",
       "      <th>created_at</th>\n",
       "    </tr>\n",
       "  </thead>\n",
       "  <tbody>\n",
       "    <tr>\n",
       "      <th>0</th>\n",
       "      <td>1</td>\n",
       "      <td>John Doe</td>\n",
       "      <td>john@example.com</td>\n",
       "      <td>25</td>\n",
       "      <td>2025-08-13 09:58:37</td>\n",
       "    </tr>\n",
       "    <tr>\n",
       "      <th>1</th>\n",
       "      <td>2</td>\n",
       "      <td>Jane Smith</td>\n",
       "      <td>jane@example.com</td>\n",
       "      <td>30</td>\n",
       "      <td>2025-08-13 09:58:37</td>\n",
       "    </tr>\n",
       "    <tr>\n",
       "      <th>2</th>\n",
       "      <td>3</td>\n",
       "      <td>Bob Wilson</td>\n",
       "      <td>bob@example.com</td>\n",
       "      <td>35</td>\n",
       "      <td>2025-08-13 09:58:37</td>\n",
       "    </tr>\n",
       "    <tr>\n",
       "      <th>3</th>\n",
       "      <td>4</td>\n",
       "      <td>Alice Brown</td>\n",
       "      <td>alice@example.com</td>\n",
       "      <td>28</td>\n",
       "      <td>2025-08-13 09:58:37</td>\n",
       "    </tr>\n",
       "    <tr>\n",
       "      <th>4</th>\n",
       "      <td>5</td>\n",
       "      <td>Mike Johnson</td>\n",
       "      <td>mike@example.com</td>\n",
       "      <td>32</td>\n",
       "      <td>2025-08-13 09:58:37</td>\n",
       "    </tr>\n",
       "  </tbody>\n",
       "</table>\n",
       "</div>"
      ]
     },
     "execution_count": 9,
     "metadata": {},
     "output_type": "execute_result"
    }
   ],
   "execution_count": 9
  }
 ],
 "metadata": {
  "kernelspec": {
   "display_name": "Python 3",
   "language": "python",
   "name": "python3"
  },
  "language_info": {
   "codemirror_mode": {
    "name": "ipython",
    "version": 2
   },
   "file_extension": ".py",
   "mimetype": "text/x-python",
   "name": "python",
   "nbconvert_exporter": "python",
   "pygments_lexer": "ipython2",
   "version": "2.7.6"
  }
 },
 "nbformat": 4,
 "nbformat_minor": 5
}
