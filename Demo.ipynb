{
 "cells": [
  {
   "metadata": {
    "ExecuteTime": {
     "end_time": "2025-08-08T09:41:48.488279Z",
     "start_time": "2025-08-08T09:41:48.446068Z"
    }
   },
   "cell_type": "code",
   "source": [
    "lst = [x for x in range(200, 99, -1) if x % 3 == 0]\n",
    "print(lst)\n",
    "l = [x for x in range(100, 201) if x % 3 == 0]\n",
    "print(l.reverse())"
   ],
   "id": "67b1a79aa9217f09",
   "outputs": [
    {
     "name": "stdout",
     "output_type": "stream",
     "text": [
      "[198, 195, 192, 189, 186, 183, 180, 177, 174, 171, 168, 165, 162, 159, 156, 153, 150, 147, 144, 141, 138, 135, 132, 129, 126, 123, 120, 117, 114, 111, 108, 105, 102]\n",
      "None\n"
     ]
    }
   ],
   "execution_count": 52
  },
  {
   "metadata": {
    "ExecuteTime": {
     "end_time": "2025-08-08T09:41:52.294473Z",
     "start_time": "2025-08-08T09:41:48.561166Z"
    }
   },
   "cell_type": "code",
   "source": [
    "n = int(input(\"Enter the no of elements: \"))\n",
    "#Multiplication table\n",
    "i = 1\n",
    "for i in range(11):\n",
    "    print(n, \"X\", i, \"=\", n * i, end=\" \")\n",
    "    print()"
   ],
   "id": "ff307486f56ef804",
   "outputs": [
    {
     "name": "stdout",
     "output_type": "stream",
     "text": [
      "11 X 0 = 0 \n",
      "11 X 1 = 11 \n",
      "11 X 2 = 22 \n",
      "11 X 3 = 33 \n",
      "11 X 4 = 44 \n",
      "11 X 5 = 55 \n",
      "11 X 6 = 66 \n",
      "11 X 7 = 77 \n",
      "11 X 8 = 88 \n",
      "11 X 9 = 99 \n",
      "11 X 10 = 110 \n"
     ]
    }
   ],
   "execution_count": 53
  },
  {
   "metadata": {
    "ExecuteTime": {
     "end_time": "2025-08-08T09:41:52.471819Z",
     "start_time": "2025-08-08T09:41:52.464755Z"
    }
   },
   "cell_type": "code",
   "source": [
    "#star pattern print using one for loop\n",
    "s = 5\n",
    "for i in range(6):\n",
    "    print(\"*\" * s)\n",
    "    s -= 1"
   ],
   "id": "1d3c1accad993d47",
   "outputs": [
    {
     "name": "stdout",
     "output_type": "stream",
     "text": [
      "*****\n",
      "****\n",
      "***\n",
      "**\n",
      "*\n",
      "\n"
     ]
    }
   ],
   "execution_count": 54
  },
  {
   "metadata": {
    "ExecuteTime": {
     "end_time": "2025-08-08T10:03:13.008876Z",
     "start_time": "2025-08-08T10:02:44.748331Z"
    }
   },
   "cell_type": "code",
   "source": [
    "n = int(input(\"Enter the no of elements: \"))\n",
    "b = True\n",
    "if n == 0 or n == 1:\n",
    "    print(\"can't say\")\n",
    "    b = False\n",
    "else:\n",
    "    for i in range(2, n):\n",
    "        if n == 2:\n",
    "            break\n",
    "        if n % i == 0:\n",
    "            b = False\n",
    "            print(\"No\")\n",
    "            break\n",
    "\n",
    "if b:\n",
    "    print(\"Yes\")"
   ],
   "id": "43ee5bffaa4af1d9",
   "outputs": [
    {
     "name": "stdout",
     "output_type": "stream",
     "text": [
      "Yes\n"
     ]
    }
   ],
   "execution_count": 70
  },
  {
   "metadata": {
    "ExecuteTime": {
     "end_time": "2025-08-08T11:09:39.407344Z",
     "start_time": "2025-08-08T11:09:39.361613Z"
    }
   },
   "cell_type": "code",
   "source": [
    "i = 200\n",
    "while i > 99:\n",
    "    if i % 5 == 0:\n",
    "        print(i, end=\" \")\n",
    "    i -= 1\n",
    "print()\n"
   ],
   "id": "f6335cd07832fce9",
   "outputs": [
    {
     "name": "stdout",
     "output_type": "stream",
     "text": [
      "200 195 190 185 180 175 170 165 160 155 150 145 140 135 130 125 120 115 110 105 100 \n"
     ]
    }
   ],
   "execution_count": 78
  }
 ],
 "metadata": {
  "kernelspec": {
   "display_name": "Python 3",
   "language": "python",
   "name": "python3"
  },
  "language_info": {
   "codemirror_mode": {
    "name": "ipython",
    "version": 2
   },
   "file_extension": ".py",
   "mimetype": "text/x-python",
   "name": "python",
   "nbconvert_exporter": "python",
   "pygments_lexer": "ipython2",
   "version": "2.7.6"
  }
 },
 "nbformat": 4,
 "nbformat_minor": 5
}
