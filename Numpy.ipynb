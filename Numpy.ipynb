{
 "cells": [
  {
   "metadata": {
    "ExecuteTime": {
     "end_time": "2025-08-09T04:27:25.474461Z",
     "start_time": "2025-08-09T04:27:25.446799Z"
    }
   },
   "cell_type": "markdown",
   "source": [
    "# 🔥 **Complete NumPy for Data Science README** 🐍\n",
    "\n",
    "Based on the comprehensive tutorial by Hitesh Choudhary and the extensive data science workflow, here's your ultimate, emoji-rich NumPy README guide for mastering numerical computing in Python!\n",
    "\n",
    "## 📚 **Table of Contents**\n",
    "\n",
    "- [🔥 Introduction & Course Overview](#-introduction--course-overview)\n",
    "- [🎯 Why NumPy is Essential](#-why-numpy-is-essential)\n",
    "- [🏗️ History & Foundation](#-history--foundation)\n",
    "- [🚀 Installation & Setup](#-installation--setup)\n",
    "- [📊 Core Data Structures](#-core-data-structures)\n",
    "- [🔧 Creating Arrays](#-creating-arrays)\n",
    "- [🎯 Array Operations](#-array-operations)\n",
    "- [📈 Mathematical Operations](#-mathematical-operations)\n",
    "- [🖼️ Image Processing Basics](#-image-processing-basics)\n",
    "- [⚡ Performance & Optimization](#-performance--optimization)\n",
    "- [💡 Best Practices](#-best-practices)\n",
    "- [🎓 Advanced Topics](#-advanced-topics)\n",
    "- [🔗 Resources & Community](#-resources--community)\n"
   ],
   "id": "6b7e25cee2556765"
  },
  {
   "metadata": {},
   "cell_type": "markdown",
   "source": [
    "## 🔥 **Introduction & Course Overview**\n",
    "\n",
    "**Welcome to Chai aur NumPy!** ☕ This comprehensive guide is based on Hitesh Choudhary's complete NumPy course, designed to take you from absolute beginner to advanced practitioner in numerical computing with Python.\n",
    "\n",
    "### 🎯 **What You'll Master:**\n",
    "- 🏗️ **Foundation**: Complete NumPy basics and array creation methods\n",
    "- ⚙️ **Operations**: Element-wise operations, broadcasting, and mathematical functions\n",
    "- 📊 **Real-world Data**: Practice with actual datasets and image processing\n",
    "- 🖼️ **Image Matrix**: Store images as matrices and convert to dark mode\n",
    "- 🚀 **Performance**: Understand why NumPy is faster than Python lists\n",
    "\n",
    "### ✨ **Course Structure:**\n",
    "\n",
    "| 📖 **Phase** | 📝 **Content** | ⏰ **Duration** |\n",
    "|--------------|----------------|----------------|\n",
    "| **Phase 1** | NumPy Foundation & Array Creation | 00:12:34 - 00:46:42 |\n",
    "| **Phase 2** | Operations on NumPy Arrays | 00:46:42 - 01:27:22 |\n",
    "| **Phase 3** | Practice with Real-World Data | 01:27:22 - 02:06:08 |\n",
    "| **Phase 4** | Image Processing & Dark Mode | 02:06:08 - 02:24:03 |\n"
   ],
   "id": "9fbab05819bf5466"
  },
  {
   "metadata": {},
   "cell_type": "markdown",
   "source": [
    "## 🎯 **Why NumPy is Essential**\n",
    "\n",
    "### 💪 **Data Science Foundation**\n",
    "\n",
    "NumPy is the **backbone of the entire Python data science ecosystem**. Every major library depends on it:\n",
    "\n",
    "- 🐼 **Pandas**: Built on top of NumPy arrays\n",
    "- 🔥 **PyTorch**: Uses NumPy-like tensor operations\n",
    "- 🧠 **TensorFlow**: Fundamental operations based on NumPy\n",
    "- 📊 **Matplotlib**: Visualization powered by NumPy arrays\n",
    "- 🤖 **Scikit-learn**: All algorithms work with NumPy arrays\n",
    "\n",
    "**Key Advantages:**\n",
    "- 🏃♂️ **Speed**: 50-100x faster than Python lists\n",
    "- 💾 **Memory**: Uses less memory due to homogeneous data types\n",
    "- 🔧 **Functionality**: Rich mathematical and statistical functions\n",
    "- 🌐 **Integration**: Seamless with other scientific libraries"
   ],
   "id": "437515ada95af8bd"
  },
  {
   "metadata": {},
   "cell_type": "markdown",
   "source": [
    "## 🏗️ **History & Foundation**\n",
    "\n",
    "### 🎨 **The C++ Foundation**\n",
    "\n",
    "NumPy's incredible speed comes from its **C++ core**:\n",
    "\n",
    "```\n",
    "Python Interface (Easy to use)\n",
    "        ↓\n",
    "NumPy Python API\n",
    "        ↓\n",
    "C++ Core Implementation (Super fast)\n",
    "        ↓\n",
    "Direct CPU/GPU Access\n",
    "```\n",
    "\n",
    "### 🧮 **Matrix Operations**\n",
    "\n",
    "The power of NumPy lies in **matrix mathematics**:\n",
    "\n",
    "```\n",
    "Matrix A = [1, 2, 3]    Matrix B = [2, 5, 7]\n",
    "           [4, 5, 6]               [9, 1, 1]\n",
    "\n",
    "Addition:  [1+2, 2+5, 3+7] = [3,  7, 10]\n",
    "           [4+9, 5+1, 6+1]   [13, 6,  7]\n",
    "\n",
    "Multiplication: Much more complex calculations!\n",
    "```\n",
    "\n",
    "**Why This Matters:**\n",
    "- 🤖 **Machine Learning**: Entire ML foundation is matrix operations\n",
    "- 🎮 **Computer Graphics**: Image processing, 3D rendering\n",
    "- 📊 **Data Analysis**: Statistical computations on large datasets\n",
    "- 🔬 **Scientific Computing**: Physics simulations, engineering calculations\n"
   ],
   "id": "dd050e542561b7ae"
  },
  {
   "metadata": {},
   "cell_type": "markdown",
   "source": [
    "## 🚀 **Installation & Setup**\n",
    "\n",
    "### 📦 **Installation Methods**\n",
    "\n",
    "```bash\n",
    "# 🐍 Using pip (most common)\n",
    "pip install numpy\n",
    "\n",
    "# 🍎 macOS users (use pip3)\n",
    "pip3 install numpy\n",
    "\n",
    "# 🐍 Using conda (recommended for data science)\n",
    "conda install numpy\n",
    "\n",
    "# 🔄 Upgrade existing installation\n",
    "pip install --upgrade numpy\n",
    "```\n",
    "\n",
    "### 💻 **Import and Setup**\n",
    "\n",
    "```python\n",
    "# 🌟 Standard import convention\n",
    "import numpy as np\n",
    "\n",
    "# 🔍 Check version\n",
    "print(f\"NumPy version: {np.__version__}\")\n",
    "\n",
    "# 📊 Create your first array\n",
    "my_first_array = np.array([1, 2, 3, 4, 5])\n",
    "print(f\"My first NumPy array: {my_first_array}\")\n",
    "```\n",
    "\n",
    "### 🛠️ **Development Environment Setup**\n",
    "\n",
    "**Recommended Tools:**\n",
    "- 🆚 **VS Code**: Excellent for beginners (as used in tutorial)\n",
    "- 📓 **Jupyter Notebooks**: Interactive development\n",
    "- 🐍 **Anaconda**: Complete data science package\n",
    "- 🖥️ **PyCharm**: Professional IDE with data science features"
   ],
   "id": "e36db16342527a3"
  },
  {
   "metadata": {
    "ExecuteTime": {
     "end_time": "2025-08-09T04:37:25.727245Z",
     "start_time": "2025-08-09T04:37:24.849232Z"
    }
   },
   "cell_type": "code",
   "source": [
    "import numpy as np\n",
    "import time"
   ],
   "id": "3409043244bc9dea",
   "outputs": [],
   "execution_count": 2
  },
  {
   "metadata": {},
   "cell_type": "markdown",
   "source": [
    "## 📊 **Core Data Structures**\n",
    "\n",
    "### 🔢 **Understanding Dimensions**\n",
    "\n",
    "NumPy works with different dimensional data structures:\n",
    "\n",
    "#### 1️⃣ **Vector (1D Array)**"
   ],
   "id": "62c977f7a4012ae9"
  },
  {
   "metadata": {
    "ExecuteTime": {
     "end_time": "2025-08-09T04:38:09.745101Z",
     "start_time": "2025-08-09T04:38:09.735333Z"
    }
   },
   "cell_type": "code",
   "source": [
    "# 🎯 One-dimensional array (Vector)\n",
    "vector = np.array([1, 2, 3, 4, 5])\n",
    "print(f\"Vector: {vector}\")\n",
    "print(f\"Shape: {vector.shape}\")  # (5,)\n",
    "print(f\"Dimensions: {vector.ndim}\")  # 1"
   ],
   "id": "7a517b0eeb135e6d",
   "outputs": [
    {
     "name": "stdout",
     "output_type": "stream",
     "text": [
      "Vector: [1 2 3 4 5]\n",
      "Shape: (5,)\n",
      "Dimensions: 1\n"
     ]
    }
   ],
   "execution_count": 3
  },
  {
   "metadata": {},
   "cell_type": "markdown",
   "source": "#### 2️⃣ **Matrix (2D Array)**",
   "id": "17f479234ab45994"
  },
  {
   "metadata": {
    "ExecuteTime": {
     "end_time": "2025-08-09T04:39:04.432364Z",
     "start_time": "2025-08-09T04:39:04.426552Z"
    }
   },
   "cell_type": "code",
   "source": [
    "# 📋 Two-dimensional array (Matrix)\n",
    "matrix = np.array([\n",
    "    [1, 2, 3],\n",
    "    [4, 5, 6]\n",
    "])\n",
    "print(f\"Matrix:\\n{matrix}\")\n",
    "print(f\"Shape: {matrix.shape}\")  # (2, 3) - 2 rows, 3 columns\n",
    "print(f\"Dimensions: {matrix.ndim}\")  # 2"
   ],
   "id": "baf0c846a9e799c6",
   "outputs": [
    {
     "name": "stdout",
     "output_type": "stream",
     "text": [
      "Matrix:\n",
      "[[1 2 3]\n",
      " [4 5 6]]\n",
      "Shape: (2, 3)\n",
      "Dimensions: 2\n"
     ]
    }
   ],
   "execution_count": 4
  },
  {
   "metadata": {},
   "cell_type": "markdown",
   "source": "#### 3️⃣ **Tensor (3D+ Array)**",
   "id": "509e0951da5ebc50"
  },
  {
   "metadata": {
    "ExecuteTime": {
     "end_time": "2025-08-09T04:39:55.721712Z",
     "start_time": "2025-08-09T04:39:55.716173Z"
    }
   },
   "cell_type": "code",
   "source": [
    "# 🧊 Three-dimensional array (Tensor)\n",
    "tensor = np.array([\n",
    "    [[1, 2], [3, 4]],\n",
    "    [[5, 6], [7, 8]]\n",
    "])\n",
    "print(f\"Tensor:\\n{tensor}\")\n",
    "print(f\"Shape: {tensor.shape}\")  # (2, 2, 2)\n",
    "print(f\"Dimensions: {tensor.ndim}\")  # 3"
   ],
   "id": "72091b8b329b6544",
   "outputs": [
    {
     "name": "stdout",
     "output_type": "stream",
     "text": [
      "Tensor:\n",
      "[[[1 2]\n",
      "  [3 4]]\n",
      "\n",
      " [[5 6]\n",
      "  [7 8]]]\n",
      "Shape: (2, 2, 2)\n",
      "Dimensions: 3\n"
     ]
    }
   ],
   "execution_count": 5
  },
  {
   "metadata": {},
   "cell_type": "markdown",
   "source": [
    "### 🔄 **List vs NumPy Array**\n",
    "\n",
    "**Critical Difference:**"
   ],
   "id": "7f80fccc53b3e04a"
  },
  {
   "metadata": {
    "ExecuteTime": {
     "end_time": "2025-08-09T04:41:55.026196Z",
     "start_time": "2025-08-09T04:41:55.020693Z"
    }
   },
   "cell_type": "code",
   "source": [
    "# 🐌 Python List Multiplication (Repetition)\n",
    "python_list = [1, 2, 3]\n",
    "result = python_list * 2  # [1, 2, 3, 1, 2, 3]\n",
    "print(f\"Python list * 2: {result}\")\n",
    "\n",
    "# ⚡ NumPy Array Multiplication (Element-wise)\n",
    "numpy_array = np.array([1, 2, 3])\n",
    "result = numpy_array * 2  # [2, 4, 6]\n",
    "print(f\"NumPy array * 2: {result}\")"
   ],
   "id": "d2e7b7cc5690a0f2",
   "outputs": [
    {
     "name": "stdout",
     "output_type": "stream",
     "text": [
      "Python list * 2: [1, 2, 3, 1, 2, 3]\n",
      "NumPy array * 2: [2 4 6]\n"
     ]
    }
   ],
   "execution_count": 6
  },
  {
   "metadata": {},
   "cell_type": "markdown",
   "source": [
    "## 🔧 **Creating Arrays**\n",
    "\n",
    "### 📝 **From Python Lists**"
   ],
   "id": "f5dec5c0b8315d95"
  },
  {
   "metadata": {
    "ExecuteTime": {
     "end_time": "2025-08-09T04:44:47.327383Z",
     "start_time": "2025-08-09T04:44:47.321829Z"
    }
   },
   "cell_type": "code",
   "source": [
    "# 🎯 Basic array creation\n",
    "arr_1d = np.array([1, 2, 3, 4, 5])\n",
    "print(f\"1D Array: {arr_1d}\")\n",
    "\n",
    "# 📊 2D array from nested lists\n",
    "arr_2d = np.array([\n",
    "    [1, 2, 3],\n",
    "    [4, 5, 6]\n",
    "])\n",
    "print(f\"2D Array:\\n{arr_2d}\")\n",
    "\n",
    "# ⚠️ Common Mistake to Avoid:\n",
    "# ❌ Wrong way - passing multiple arrays\n",
    "# arr_wrong = np.array([1, 2, 3], [4, 5, 6])  # This will error!\n",
    "\n",
    "# ✅ Correct way - single list containing sublists\n",
    "arr_correct = np.array([[1, 2, 3], [4, 5, 6]])"
   ],
   "id": "2458913d6fc87929",
   "outputs": [
    {
     "name": "stdout",
     "output_type": "stream",
     "text": [
      "1D Array: [1 2 3 4 5]\n",
      "2D Array:\n",
      "[[1 2 3]\n",
      " [4 5 6]]\n"
     ]
    }
   ],
   "execution_count": 7
  },
  {
   "metadata": {},
   "cell_type": "markdown",
   "source": [
    "### 🏗️ **Built-in Array Creation Functions**\n",
    "\n",
    "#### 🔢 **Zeros and Ones Arrays**"
   ],
   "id": "9408646a1fdd8e7e"
  },
  {
   "metadata": {
    "ExecuteTime": {
     "end_time": "2025-08-09T04:45:46.095036Z",
     "start_time": "2025-08-09T04:45:46.086959Z"
    }
   },
   "cell_type": "code",
   "source": [
    "# 🔘 Array of zeros\n",
    "zeros_array = np.zeros((3, 4))  # 3 rows, 4 columns of zeros\n",
    "print(\"Zeros Array:\")\n",
    "print(zeros_array)\n",
    "\n",
    "# ⚪ Array of ones\n",
    "ones_array = np.ones((2, 3))  # 2 rows, 3 columns of ones\n",
    "print(\"Ones Array:\")\n",
    "print(ones_array)\n",
    "\n",
    "# 🎯 Array with custom constant value\n",
    "sevens_array = np.full((2, 2), 7)  # 2x2 array filled with 7\n",
    "print(\"Sevens Array:\")\n",
    "print(sevens_array)"
   ],
   "id": "acecc36989152735",
   "outputs": [
    {
     "name": "stdout",
     "output_type": "stream",
     "text": [
      "Zeros Array:\n",
      "[[0. 0. 0. 0.]\n",
      " [0. 0. 0. 0.]\n",
      " [0. 0. 0. 0.]]\n",
      "Ones Array:\n",
      "[[1. 1. 1.]\n",
      " [1. 1. 1.]]\n",
      "Sevens Array:\n",
      "[[7 7]\n",
      " [7 7]]\n"
     ]
    }
   ],
   "execution_count": 8
  },
  {
   "metadata": {},
   "cell_type": "markdown",
   "source": "#### 🎲 **Random Arrays**",
   "id": "8466113585caa381"
  },
  {
   "metadata": {
    "ExecuteTime": {
     "end_time": "2025-08-09T04:46:36.219294Z",
     "start_time": "2025-08-09T04:46:36.091998Z"
    }
   },
   "cell_type": "code",
   "source": [
    "# 🎰 Random values between 0 and 1\n",
    "random_array = np.random.random((2, 3))\n",
    "print(\"Random Array:\")\n",
    "print(random_array)\n",
    "\n",
    "# 🎯 Random integers in a range\n",
    "random_ints = np.random.randint(1, 10, size=(3, 3))  # Values from 1-9\n",
    "print(\"Random Integers:\")\n",
    "print(random_ints)\n",
    "\n",
    "# 🎪 Random values from normal distribution\n",
    "normal_array = np.random.normal(0, 1, (2, 2))  # mean=0, std=1\n",
    "print(\"Normal Distribution:\")\n",
    "print(normal_array)"
   ],
   "id": "a7cb323243c9540b",
   "outputs": [
    {
     "name": "stdout",
     "output_type": "stream",
     "text": [
      "Random Array:\n",
      "[[0.65622925 0.08416588 0.69694835]\n",
      " [0.34349996 0.28319573 0.85537118]]\n",
      "Random Integers:\n",
      "[[3 8 2]\n",
      " [2 2 9]\n",
      " [5 7 9]]\n",
      "Normal Distribution:\n",
      "[[ 0.27634478 -0.35008166]\n",
      " [-1.22735243  0.68713208]]\n"
     ]
    }
   ],
   "execution_count": 9
  },
  {
   "metadata": {},
   "cell_type": "markdown",
   "source": "#### 🔢 **Sequence Arrays**",
   "id": "7d70bea0207f78f8"
  },
  {
   "metadata": {
    "ExecuteTime": {
     "end_time": "2025-08-09T04:48:09.072220Z",
     "start_time": "2025-08-09T04:48:09.066416Z"
    }
   },
   "cell_type": "code",
   "source": [
    "# 📈 Range of values (like Python range, but returns array)\n",
    "range_array = np.arange(0, 10, 2)  # Start=0, Stop=10, Step=2\n",
    "print(f\"Range Array: {range_array}\")  # [0, 2, 4, 6, 8]\n",
    "\n",
    "# 📏 Evenly spaced values\n",
    "linspace_array = np.linspace(0, 1, 5)  # 5 values from 0 to 1\n",
    "print(f\"Linspace Array: {linspace_array}\")  # [0. 0.25 0.5 0.75 1.]\n",
    "\n",
    "# 🆔 Identity matrix\n",
    "identity_matrix = np.eye(3)  # 3x3 identity matrix\n",
    "print(\"Identity Matrix:\")\n",
    "print(identity_matrix)"
   ],
   "id": "f1f02706c700609c",
   "outputs": [
    {
     "name": "stdout",
     "output_type": "stream",
     "text": [
      "Range Array: [0 2 4 6 8]\n",
      "Linspace Array: [0.   0.25 0.5  0.75 1.  ]\n",
      "Identity Matrix:\n",
      "[[1. 0. 0.]\n",
      " [0. 1. 0.]\n",
      " [0. 0. 1.]]\n"
     ]
    }
   ],
   "execution_count": 10
  },
  {
   "metadata": {},
   "cell_type": "markdown",
   "source": [
    "## 🎯 **Array Operations**\n",
    "\n",
    "### 🔍 **Performance Comparison**\n",
    "\n",
    "Let's see why NumPy is so much faster:"
   ],
   "id": "cadde4d908b2aa14"
  },
  {
   "metadata": {
    "ExecuteTime": {
     "end_time": "2025-08-09T04:50:54.214089Z",
     "start_time": "2025-08-09T04:50:54.116903Z"
    }
   },
   "cell_type": "code",
   "source": [
    "import time\n",
    "\n",
    "# 🐌 Python List Performance Test\n",
    "start_time = time.time()\n",
    "python_list = list(range(1000000))\n",
    "result_list = [x * 2 for x in python_list]\n",
    "list_time = time.time() - start_time\n",
    "\n",
    "# ⚡ NumPy Array Performance Test\n",
    "start_time = time.time()\n",
    "numpy_array = np.arange(1000000)\n",
    "result_array = numpy_array * 2\n",
    "numpy_time = time.time() - start_time\n",
    "\n",
    "print(f\"🐌 Python List Time: {list_time:.6f} seconds\")\n",
    "print(f\"⚡ NumPy Array Time: {numpy_time:.6f} seconds\")\n",
    "print(f\"🚀 NumPy is {list_time/numpy_time:.1f}x faster!\")"
   ],
   "id": "1e5842e63e331d28",
   "outputs": [
    {
     "name": "stdout",
     "output_type": "stream",
     "text": [
      "🐌 Python List Time: 0.085466 seconds\n",
      "⚡ NumPy Array Time: 0.005278 seconds\n",
      "🚀 NumPy is 16.2x faster!\n"
     ]
    }
   ],
   "execution_count": 11
  },
  {
   "metadata": {},
   "cell_type": "markdown",
   "source": [
    "**Why NumPy is Faster:**\n",
    "- 🏠 **Contiguous Memory**: Arrays stored in continuous memory blocks\n",
    "- 🎯 **Homogeneous Data**: All elements are the same data type\n",
    "- 🔧 **Vectorized Operations**: Operations applied to entire arrays at once\n",
    "- 🏎️ **C/C++ Implementation**: Core functions written in compiled languages\n",
    "\n",
    "### 📊 **Element-wise Operations**"
   ],
   "id": "10b3a411bc17b92f"
  },
  {
   "metadata": {
    "ExecuteTime": {
     "end_time": "2025-08-09T04:52:52.817459Z",
     "start_time": "2025-08-09T04:52:52.807847Z"
    }
   },
   "cell_type": "code",
   "source": [
    "# 🎯 Create sample arrays\n",
    "arr1 = np.array([1, 2, 3, 4])\n",
    "arr2 = np.array([5, 6, 7, 8])\n",
    "\n",
    "# ➕ Addition\n",
    "addition = arr1 + arr2\n",
    "print(f\"Addition: {addition}\")  # [6, 8, 10, 12]\n",
    "\n",
    "# ➖ Subtraction\n",
    "subtraction = arr2 - arr1\n",
    "print(f\"Subtraction: {subtraction}\")  # [4, 4, 4, 4]\n",
    "\n",
    "# ✖️ Multiplication (element-wise)\n",
    "multiplication = arr1 * arr2\n",
    "print(f\"Element-wise multiplication: {multiplication}\")  # [5, 12, 21, 32]\n",
    "\n",
    "# ➗ Division\n",
    "division = arr2 / arr1\n",
    "print(f\"Division: {division}\")  # [5.0, 3.0, 2.33, 2.0]\n",
    "\n",
    "# 🔋 Power operation\n",
    "power = arr1 ** 2\n",
    "print(f\"Square: {power}\")  # [1, 4, 9, 16]"
   ],
   "id": "dfa1c7b604a14409",
   "outputs": [
    {
     "name": "stdout",
     "output_type": "stream",
     "text": [
      "Addition: [ 6  8 10 12]\n",
      "Subtraction: [4 4 4 4]\n",
      "Element-wise multiplication: [ 5 12 21 32]\n",
      "Division: [5.         3.         2.33333333 2.        ]\n",
      "Square: [ 1  4  9 16]\n"
     ]
    }
   ],
   "execution_count": 12
  },
  {
   "metadata": {},
   "cell_type": "markdown",
   "source": "### 📏 **Array Properties**",
   "id": "80a3d6a11e4503c3"
  },
  {
   "metadata": {
    "ExecuteTime": {
     "end_time": "2025-08-09T04:53:53.187381Z",
     "start_time": "2025-08-09T04:53:53.178726Z"
    }
   },
   "cell_type": "code",
   "source": [
    "# 🎯 Sample array for exploration\n",
    "sample_array = np.array([[1, 2, 3], [4, 5, 6], [7, 8, 9]])\n",
    "\n",
    "print(\"🔍 Array Exploration:\")\n",
    "print(f\"Array:\\n{sample_array}\")\n",
    "print(f\"Shape: {sample_array.shape}\")        # (3, 3)\n",
    "print(f\"Size: {sample_array.size}\")          # 9 total elements\n",
    "print(f\"Dimensions: {sample_array.ndim}\")    # 2 dimensions\n",
    "print(f\"Data type: {sample_array.dtype}\")    # int64 (or int32 on some systems)\n",
    "print(f\"Item size: {sample_array.itemsize}\") # 8 bytes per element"
   ],
   "id": "efd2dc909cc6cb31",
   "outputs": [
    {
     "name": "stdout",
     "output_type": "stream",
     "text": [
      "🔍 Array Exploration:\n",
      "Array:\n",
      "[[1 2 3]\n",
      " [4 5 6]\n",
      " [7 8 9]]\n",
      "Shape: (3, 3)\n",
      "Size: 9\n",
      "Dimensions: 2\n",
      "Data type: int64\n",
      "Item size: 8\n"
     ]
    }
   ],
   "execution_count": 13
  },
  {
   "metadata": {},
   "cell_type": "markdown",
   "source": [
    "## 📈 **Mathematical Operations**\n",
    "\n",
    "### 🔢 **Statistical Functions**"
   ],
   "id": "7d94bd6ad5116cda"
  },
  {
   "metadata": {
    "ExecuteTime": {
     "end_time": "2025-08-09T04:55:01.742931Z",
     "start_time": "2025-08-09T04:55:01.722837Z"
    }
   },
   "cell_type": "code",
   "source": [
    "# 📊 Create sample data\n",
    "data = np.array([1, 2, 3, 4, 5, 6, 7, 8, 9, 10])\n",
    "\n",
    "print(\"📊 Statistical Analysis:\")\n",
    "print(f\"Data: {data}\")\n",
    "print(f\"Mean: {np.mean(data)}\")           # 5.5\n",
    "print(f\"Median: {np.median(data)}\")       # 5.5\n",
    "print(f\"Standard Deviation: {np.std(data)}\")  # ~2.87\n",
    "print(f\"Variance: {np.var(data)}\")        # ~8.25\n",
    "print(f\"Min: {np.min(data)}\")             # 1\n",
    "print(f\"Max: {np.max(data)}\")             # 10\n",
    "print(f\"Sum: {np.sum(data)}\")             # 55"
   ],
   "id": "c755b698278d2a2e",
   "outputs": [
    {
     "name": "stdout",
     "output_type": "stream",
     "text": [
      "📊 Statistical Analysis:\n",
      "Data: [ 1  2  3  4  5  6  7  8  9 10]\n",
      "Mean: 5.5\n",
      "Median: 5.5\n",
      "Standard Deviation: 2.8722813232690143\n",
      "Variance: 8.25\n",
      "Min: 1\n",
      "Max: 10\n",
      "Sum: 55\n"
     ]
    }
   ],
   "execution_count": 14
  },
  {
   "metadata": {},
   "cell_type": "markdown",
   "source": "### 🧮 **Mathematical Functions**",
   "id": "1c04ae719fac283d"
  },
  {
   "metadata": {},
   "cell_type": "code",
   "outputs": [],
   "execution_count": null,
   "source": "",
   "id": "2dbd156ee80a09d8"
  }
 ],
 "metadata": {
  "kernelspec": {
   "display_name": "Python 3",
   "language": "python",
   "name": "python3"
  },
  "language_info": {
   "codemirror_mode": {
    "name": "ipython",
    "version": 2
   },
   "file_extension": ".py",
   "mimetype": "text/x-python",
   "name": "python",
   "nbconvert_exporter": "python",
   "pygments_lexer": "ipython2",
   "version": "2.7.6"
  }
 },
 "nbformat": 4,
 "nbformat_minor": 5
}
