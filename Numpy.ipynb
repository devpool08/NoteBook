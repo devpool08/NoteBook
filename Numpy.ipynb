{
 "cells": [
  {
   "metadata": {
    "ExecuteTime": {
     "end_time": "2025-08-09T04:27:25.474461Z",
     "start_time": "2025-08-09T04:27:25.446799Z"
    }
   },
   "cell_type": "markdown",
   "source": [
    "# 🔥 **Complete NumPy for Data Science README** 🐍\n",
    "\n",
    "Based on the comprehensive tutorial by Hitesh Choudhary and the extensive data science workflow, here's your ultimate, emoji-rich NumPy README guide for mastering numerical computing in Python!\n",
    "\n",
    "## 📚 **Table of Contents**\n",
    "\n",
    "- [🔥 Introduction & Course Overview](#-introduction--course-overview)\n",
    "- [🎯 Why NumPy is Essential](#-why-numpy-is-essential)\n",
    "- [🏗️ History & Foundation](#-history--foundation)\n",
    "- [🚀 Installation & Setup](#-installation--setup)\n",
    "- [📊 Core Data Structures](#-core-data-structures)\n",
    "- [🔧 Creating Arrays](#-creating-arrays)\n",
    "- [🎯 Array Operations](#-array-operations)\n",
    "- [📈 Mathematical Operations](#-mathematical-operations)\n",
    "- [🖼️ Image Processing Basics](#-image-processing-basics)\n",
    "- [⚡ Performance & Optimization](#-performance--optimization)\n",
    "- [💡 Best Practices](#-best-practices)\n",
    "- [🎓 Advanced Topics](#-advanced-topics)\n",
    "- [🔗 Resources & Community](#-resources--community)\n"
   ],
   "id": "6b7e25cee2556765"
  },
  {
   "metadata": {},
   "cell_type": "markdown",
   "source": [
    "## 🔥 **Introduction & Course Overview**\n",
    "\n",
    "**Welcome to Chai aur NumPy!** ☕ This comprehensive guide is based on Hitesh Choudhary's complete NumPy course, designed to take you from absolute beginner to advanced practitioner in numerical computing with Python.\n",
    "\n",
    "### 🎯 **What You'll Master:**\n",
    "- 🏗️ **Foundation**: Complete NumPy basics and array creation methods\n",
    "- ⚙️ **Operations**: Element-wise operations, broadcasting, and mathematical functions\n",
    "- 📊 **Real-world Data**: Practice with actual datasets and image processing\n",
    "- 🖼️ **Image Matrix**: Store images as matrices and convert to dark mode\n",
    "- 🚀 **Performance**: Understand why NumPy is faster than Python lists\n",
    "\n",
    "### ✨ **Course Structure:**\n",
    "\n",
    "| 📖 **Phase** | 📝 **Content** | ⏰ **Duration** |\n",
    "|--------------|----------------|----------------|\n",
    "| **Phase 1** | NumPy Foundation & Array Creation | 00:12:34 - 00:46:42 |\n",
    "| **Phase 2** | Operations on NumPy Arrays | 00:46:42 - 01:27:22 |\n",
    "| **Phase 3** | Practice with Real-World Data | 01:27:22 - 02:06:08 |\n",
    "| **Phase 4** | Image Processing & Dark Mode | 02:06:08 - 02:24:03 |\n"
   ],
   "id": "9fbab05819bf5466"
  },
  {
   "metadata": {},
   "cell_type": "markdown",
   "source": [
    "## 🎯 **Why NumPy is Essential**\n",
    "\n",
    "### 💪 **Data Science Foundation**\n",
    "\n",
    "NumPy is the **backbone of the entire Python data science ecosystem**. Every major library depends on it:\n",
    "\n",
    "- 🐼 **Pandas**: Built on top of NumPy arrays\n",
    "- 🔥 **PyTorch**: Uses NumPy-like tensor operations\n",
    "- 🧠 **TensorFlow**: Fundamental operations based on NumPy\n",
    "- 📊 **Matplotlib**: Visualization powered by NumPy arrays\n",
    "- 🤖 **Scikit-learn**: All algorithms work with NumPy arrays\n",
    "\n",
    "**Key Advantages:**\n",
    "- 🏃♂️ **Speed**: 50-100x faster than Python lists\n",
    "- 💾 **Memory**: Uses less memory due to homogeneous data types\n",
    "- 🔧 **Functionality**: Rich mathematical and statistical functions\n",
    "- 🌐 **Integration**: Seamless with other scientific libraries"
   ],
   "id": "437515ada95af8bd"
  },
  {
   "metadata": {},
   "cell_type": "markdown",
   "source": [
    "## 🏗️ **History & Foundation**\n",
    "\n",
    "### 🎨 **The C++ Foundation**\n",
    "\n",
    "NumPy's incredible speed comes from its **C++ core**:\n",
    "\n",
    "```\n",
    "Python Interface (Easy to use)\n",
    "        ↓\n",
    "NumPy Python API\n",
    "        ↓\n",
    "C++ Core Implementation (Super fast)\n",
    "        ↓\n",
    "Direct CPU/GPU Access\n",
    "```\n",
    "\n",
    "### 🧮 **Matrix Operations**\n",
    "\n",
    "The power of NumPy lies in **matrix mathematics**:\n",
    "\n",
    "```\n",
    "Matrix A = [1, 2, 3]    Matrix B = [2, 5, 7]\n",
    "           [4, 5, 6]               [9, 1, 1]\n",
    "\n",
    "Addition:  [1+2, 2+5, 3+7] = [3,  7, 10]\n",
    "           [4+9, 5+1, 6+1]   [13, 6,  7]\n",
    "\n",
    "Multiplication: Much more complex calculations!\n",
    "```\n",
    "\n",
    "**Why This Matters:**\n",
    "- 🤖 **Machine Learning**: Entire ML foundation is matrix operations\n",
    "- 🎮 **Computer Graphics**: Image processing, 3D rendering\n",
    "- 📊 **Data Analysis**: Statistical computations on large datasets\n",
    "- 🔬 **Scientific Computing**: Physics simulations, engineering calculations\n"
   ],
   "id": "dd050e542561b7ae"
  },
  {
   "metadata": {},
   "cell_type": "markdown",
   "source": [
    "## 🚀 **Installation & Setup**\n",
    "\n",
    "### 📦 **Installation Methods**\n",
    "\n",
    "```bash\n",
    "# 🐍 Using pip (most common)\n",
    "pip install numpy\n",
    "\n",
    "# 🍎 macOS users (use pip3)\n",
    "pip3 install numpy\n",
    "\n",
    "# 🐍 Using conda (recommended for data science)\n",
    "conda install numpy\n",
    "\n",
    "# 🔄 Upgrade existing installation\n",
    "pip install --upgrade numpy\n",
    "```\n",
    "\n",
    "### 💻 **Import and Setup**\n",
    "\n",
    "```python\n",
    "# 🌟 Standard import convention\n",
    "import numpy as np\n",
    "\n",
    "# 🔍 Check version\n",
    "print(f\"NumPy version: {np.__version__}\")\n",
    "\n",
    "# 📊 Create your first array\n",
    "my_first_array = np.array([1, 2, 3, 4, 5])\n",
    "print(f\"My first NumPy array: {my_first_array}\")\n",
    "```\n",
    "\n",
    "### 🛠️ **Development Environment Setup**\n",
    "\n",
    "**Recommended Tools:**\n",
    "- 🆚 **VS Code**: Excellent for beginners (as used in tutorial)\n",
    "- 📓 **Jupyter Notebooks**: Interactive development\n",
    "- 🐍 **Anaconda**: Complete data science package\n",
    "- 🖥️ **PyCharm**: Professional IDE with data science features"
   ],
   "id": "e36db16342527a3"
  },
  {
   "metadata": {
    "ExecuteTime": {
     "end_time": "2025-08-13T09:13:37.250373Z",
     "start_time": "2025-08-13T09:13:37.245292Z"
    }
   },
   "cell_type": "code",
   "source": [
    "import numpy as np\n",
    "import time"
   ],
   "id": "3409043244bc9dea",
   "outputs": [],
   "execution_count": 38
  },
  {
   "metadata": {},
   "cell_type": "markdown",
   "source": [
    "## 📊 **Core Data Structures**\n",
    "\n",
    "### 🔢 **Understanding Dimensions**\n",
    "\n",
    "NumPy works with different dimensional data structures:\n",
    "\n",
    "#### 1️⃣ **Vector (1D Array)**"
   ],
   "id": "62c977f7a4012ae9"
  },
  {
   "metadata": {
    "ExecuteTime": {
     "end_time": "2025-08-13T09:13:37.301571Z",
     "start_time": "2025-08-13T09:13:37.294407Z"
    }
   },
   "cell_type": "code",
   "source": [
    "# 🎯 One-dimensional array (Vector)\n",
    "vector = np.array([1, 2, 3, 4, 5])\n",
    "print(f\"Vector: {vector}\")\n",
    "print(f\"Shape: {vector.shape}\")  # (5,)\n",
    "print(f\"Dimensions: {vector.ndim}\")  # 1"
   ],
   "id": "7a517b0eeb135e6d",
   "outputs": [
    {
     "name": "stdout",
     "output_type": "stream",
     "text": [
      "Vector: [1 2 3 4 5]\n",
      "Shape: (5,)\n",
      "Dimensions: 1\n"
     ]
    }
   ],
   "execution_count": 39
  },
  {
   "metadata": {},
   "cell_type": "markdown",
   "source": "#### 2️⃣ **Matrix (2D Array)**",
   "id": "17f479234ab45994"
  },
  {
   "metadata": {
    "ExecuteTime": {
     "end_time": "2025-08-13T09:13:37.317551Z",
     "start_time": "2025-08-13T09:13:37.311011Z"
    }
   },
   "cell_type": "code",
   "source": [
    "# 📋 Two-dimensional array (Matrix)\n",
    "matrix = np.array([\n",
    "    [1, 2, 3],\n",
    "    [4, 5, 6]\n",
    "])\n",
    "print(f\"Matrix:\\n{matrix}\")\n",
    "print(f\"Shape: {matrix.shape}\")  # (2, 3) - 2 rows, 3 columns\n",
    "print(f\"Dimensions: {matrix.ndim}\")  # 2"
   ],
   "id": "baf0c846a9e799c6",
   "outputs": [
    {
     "name": "stdout",
     "output_type": "stream",
     "text": [
      "Matrix:\n",
      "[[1 2 3]\n",
      " [4 5 6]]\n",
      "Shape: (2, 3)\n",
      "Dimensions: 2\n"
     ]
    }
   ],
   "execution_count": 40
  },
  {
   "metadata": {},
   "cell_type": "markdown",
   "source": "#### 3️⃣ **Tensor (3D+ Array)**",
   "id": "509e0951da5ebc50"
  },
  {
   "metadata": {
    "ExecuteTime": {
     "end_time": "2025-08-13T09:13:37.346841Z",
     "start_time": "2025-08-13T09:13:37.342044Z"
    }
   },
   "cell_type": "code",
   "source": [
    "# 🧊 Three-dimensional array (Tensor)\n",
    "tensor = np.array([\n",
    "    [[1, 2], [3, 4]],\n",
    "    [[5, 6], [7, 8]]\n",
    "])\n",
    "print(f\"Tensor:\\n{tensor}\")\n",
    "print(f\"Shape: {tensor.shape}\")  # (2, 2, 2)\n",
    "print(f\"Dimensions: {tensor.ndim}\")  # 3"
   ],
   "id": "72091b8b329b6544",
   "outputs": [
    {
     "name": "stdout",
     "output_type": "stream",
     "text": [
      "Tensor:\n",
      "[[[1 2]\n",
      "  [3 4]]\n",
      "\n",
      " [[5 6]\n",
      "  [7 8]]]\n",
      "Shape: (2, 2, 2)\n",
      "Dimensions: 3\n"
     ]
    }
   ],
   "execution_count": 41
  },
  {
   "metadata": {},
   "cell_type": "markdown",
   "source": [
    "### 🔄 **List vs NumPy Array**\n",
    "\n",
    "**Critical Difference:**"
   ],
   "id": "7f80fccc53b3e04a"
  },
  {
   "metadata": {
    "ExecuteTime": {
     "end_time": "2025-08-13T09:13:37.377896Z",
     "start_time": "2025-08-13T09:13:37.370021Z"
    }
   },
   "cell_type": "code",
   "source": [
    "# 🐌 Python List Multiplication (Repetition)\n",
    "python_list = [1, 2, 3]\n",
    "result = python_list * 2  # [1, 2, 3, 1, 2, 3]\n",
    "print(f\"Python list * 2: {result}\")\n",
    "\n",
    "# ⚡ NumPy Array Multiplication (Element-wise)\n",
    "numpy_array = np.array([1, 2, 3])\n",
    "result = numpy_array * 2  # [2, 4, 6]\n",
    "print(f\"NumPy array * 2: {result}\")"
   ],
   "id": "d2e7b7cc5690a0f2",
   "outputs": [
    {
     "name": "stdout",
     "output_type": "stream",
     "text": [
      "Python list * 2: [1, 2, 3, 1, 2, 3]\n",
      "NumPy array * 2: [2 4 6]\n"
     ]
    }
   ],
   "execution_count": 42
  },
  {
   "metadata": {},
   "cell_type": "markdown",
   "source": [
    "## 🔧 **Creating Arrays**\n",
    "\n",
    "### 📝 **From Python Lists**"
   ],
   "id": "f5dec5c0b8315d95"
  },
  {
   "metadata": {
    "ExecuteTime": {
     "end_time": "2025-08-13T09:13:37.428214Z",
     "start_time": "2025-08-13T09:13:37.422463Z"
    }
   },
   "cell_type": "code",
   "source": [
    "# 🎯 Basic array creation\n",
    "arr_1d = np.array([1, 2, 3, 4, 5])\n",
    "print(f\"1D Array: {arr_1d}\")\n",
    "\n",
    "# 📊 2D array from nested lists\n",
    "arr_2d = np.array([\n",
    "    [1, 2, 3],\n",
    "    [4, 5, 6]\n",
    "])\n",
    "print(f\"2D Array:\\n{arr_2d}\")\n",
    "\n",
    "# ⚠️ Common Mistake to Avoid:\n",
    "# ❌ Wrong way - passing multiple arrays\n",
    "# arr_wrong = np.array([1, 2, 3], [4, 5, 6])  # This will error!\n",
    "\n",
    "# ✅ Correct way - single list containing sublists\n",
    "arr_correct = np.array([[1, 2, 3], [4, 5, 6]])"
   ],
   "id": "2458913d6fc87929",
   "outputs": [
    {
     "name": "stdout",
     "output_type": "stream",
     "text": [
      "1D Array: [1 2 3 4 5]\n",
      "2D Array:\n",
      "[[1 2 3]\n",
      " [4 5 6]]\n"
     ]
    }
   ],
   "execution_count": 43
  },
  {
   "metadata": {},
   "cell_type": "markdown",
   "source": [
    "### 🏗️ **Built-in Array Creation Functions**\n",
    "\n",
    "#### 🔢 **Zeros and Ones Arrays**"
   ],
   "id": "9408646a1fdd8e7e"
  },
  {
   "metadata": {
    "ExecuteTime": {
     "end_time": "2025-08-13T09:13:37.453150Z",
     "start_time": "2025-08-13T09:13:37.445825Z"
    }
   },
   "cell_type": "code",
   "source": [
    "# 🔘 Array of zeros\n",
    "zeros_array = np.zeros((3, 4))  # 3 rows, 4 columns of zeros\n",
    "print(\"Zeros Array:\")\n",
    "print(zeros_array)\n",
    "\n",
    "# ⚪ Array of ones\n",
    "ones_array = np.ones((2, 3))  # 2 rows, 3 columns of ones\n",
    "print(\"Ones Array:\")\n",
    "print(ones_array)\n",
    "\n",
    "# 🎯 Array with custom constant value\n",
    "sevens_array = np.full((2, 2), 7)  # 2x2 array filled with 7\n",
    "print(\"Sevens Array:\")\n",
    "print(sevens_array)"
   ],
   "id": "acecc36989152735",
   "outputs": [
    {
     "name": "stdout",
     "output_type": "stream",
     "text": [
      "Zeros Array:\n",
      "[[0. 0. 0. 0.]\n",
      " [0. 0. 0. 0.]\n",
      " [0. 0. 0. 0.]]\n",
      "Ones Array:\n",
      "[[1. 1. 1.]\n",
      " [1. 1. 1.]]\n",
      "Sevens Array:\n",
      "[[7 7]\n",
      " [7 7]]\n"
     ]
    }
   ],
   "execution_count": 44
  },
  {
   "metadata": {},
   "cell_type": "markdown",
   "source": "#### 🎲 **Random Arrays**",
   "id": "8466113585caa381"
  },
  {
   "metadata": {
    "ExecuteTime": {
     "end_time": "2025-08-13T09:13:37.486213Z",
     "start_time": "2025-08-13T09:13:37.477939Z"
    }
   },
   "cell_type": "code",
   "source": [
    "# 🎰 Random values between 0 and 1\n",
    "random_array = np.random.random((2, 3))\n",
    "print(\"Random Array:\")\n",
    "print(random_array)\n",
    "\n",
    "# 🎯 Random integers in a range\n",
    "random_ints = np.random.randint(1, 10, size=(3, 3))  # Values from 1-9\n",
    "print(\"Random Integers:\")\n",
    "print(random_ints)\n",
    "\n",
    "# 🎪 Random values from normal distribution\n",
    "normal_array = np.random.normal(0, 1, (2, 2))  # mean=0, std=1\n",
    "print(\"Normal Distribution:\")\n",
    "print(normal_array)"
   ],
   "id": "a7cb323243c9540b",
   "outputs": [
    {
     "name": "stdout",
     "output_type": "stream",
     "text": [
      "Random Array:\n",
      "[[0.35288325 0.36286736 0.79581507]\n",
      " [0.9829169  0.94880485 0.17212157]]\n",
      "Random Integers:\n",
      "[[5 3 1]\n",
      " [2 6 3]\n",
      " [3 2 7]]\n",
      "Normal Distribution:\n",
      "[[ 0.58800263 -0.4920641 ]\n",
      " [ 1.38778527  1.54861067]]\n"
     ]
    }
   ],
   "execution_count": 45
  },
  {
   "metadata": {},
   "cell_type": "markdown",
   "source": "#### 🔢 **Sequence Arrays**",
   "id": "7d70bea0207f78f8"
  },
  {
   "metadata": {
    "ExecuteTime": {
     "end_time": "2025-08-13T09:13:37.513864Z",
     "start_time": "2025-08-13T09:13:37.507943Z"
    }
   },
   "cell_type": "code",
   "source": [
    "# 📈 Range of values (like Python range, but returns array)\n",
    "range_array = np.arange(0, 10, 2)  # Start=0, Stop=10, Step=2\n",
    "print(f\"Range Array: {range_array}\")  # [0, 2, 4, 6, 8]\n",
    "\n",
    "# 📏 Evenly spaced values\n",
    "linspace_array = np.linspace(0, 1, 5)  # 5 values from 0 to 1\n",
    "print(f\"Linspace Array: {linspace_array}\")  # [0. 0.25 0.5 0.75 1.]\n",
    "\n",
    "# 🆔 Identity matrix\n",
    "identity_matrix = np.eye(3)  # 3x3 identity matrix\n",
    "print(\"Identity Matrix:\")\n",
    "print(identity_matrix)"
   ],
   "id": "f1f02706c700609c",
   "outputs": [
    {
     "name": "stdout",
     "output_type": "stream",
     "text": [
      "Range Array: [0 2 4 6 8]\n",
      "Linspace Array: [0.   0.25 0.5  0.75 1.  ]\n",
      "Identity Matrix:\n",
      "[[1. 0. 0.]\n",
      " [0. 1. 0.]\n",
      " [0. 0. 1.]]\n"
     ]
    }
   ],
   "execution_count": 46
  },
  {
   "metadata": {},
   "cell_type": "markdown",
   "source": [
    "## 🎯 **Array Operations**\n",
    "\n",
    "### 🔍 **Performance Comparison**\n",
    "\n",
    "Let's see why NumPy is so much faster:"
   ],
   "id": "cadde4d908b2aa14"
  },
  {
   "metadata": {
    "ExecuteTime": {
     "end_time": "2025-08-13T09:13:37.643582Z",
     "start_time": "2025-08-13T09:13:37.536089Z"
    }
   },
   "cell_type": "code",
   "source": [
    "import time\n",
    "\n",
    "# 🐌 Python List Performance Test\n",
    "start_time = time.time()\n",
    "python_list = list(range(1000000))\n",
    "result_list = [x * 2 for x in python_list]\n",
    "list_time = time.time() - start_time\n",
    "\n",
    "# ⚡ NumPy Array Performance Test\n",
    "start_time = time.time()\n",
    "numpy_array = np.arange(1000000)\n",
    "result_array = numpy_array * 2\n",
    "numpy_time = time.time() - start_time\n",
    "\n",
    "print(f\"🐌 Python List Time: {list_time:.6f} seconds\")\n",
    "print(f\"⚡ NumPy Array Time: {numpy_time:.6f} seconds\")\n",
    "print(f\"🚀 NumPy is {list_time / numpy_time:.1f}x faster!\")"
   ],
   "id": "1e5842e63e331d28",
   "outputs": [
    {
     "name": "stdout",
     "output_type": "stream",
     "text": [
      "🐌 Python List Time: 0.098330 seconds\n",
      "⚡ NumPy Array Time: 0.004694 seconds\n",
      "🚀 NumPy is 20.9x faster!\n"
     ]
    }
   ],
   "execution_count": 47
  },
  {
   "metadata": {},
   "cell_type": "markdown",
   "source": [
    "**Why NumPy is Faster:**\n",
    "- 🏠 **Contiguous Memory**: Arrays stored in continuous memory blocks\n",
    "- 🎯 **Homogeneous Data**: All elements are the same data type\n",
    "- 🔧 **Vectorized Operations**: Operations applied to entire arrays at once\n",
    "- 🏎️ **C/C++ Implementation**: Core functions written in compiled languages\n",
    "\n",
    "### 📊 **Element-wise Operations**"
   ],
   "id": "10b3a411bc17b92f"
  },
  {
   "metadata": {
    "ExecuteTime": {
     "end_time": "2025-08-13T09:13:37.676482Z",
     "start_time": "2025-08-13T09:13:37.668792Z"
    }
   },
   "cell_type": "code",
   "source": [
    "# 🎯 Create sample arrays\n",
    "arr1 = np.array([1, 2, 3, 4])\n",
    "arr2 = np.array([5, 6, 7, 8])\n",
    "\n",
    "# ➕ Addition\n",
    "addition = arr1 + arr2\n",
    "print(f\"Addition: {addition}\")  # [6, 8, 10, 12]\n",
    "\n",
    "# ➖ Subtraction\n",
    "subtraction = arr2 - arr1\n",
    "print(f\"Subtraction: {subtraction}\")  # [4, 4, 4, 4]\n",
    "\n",
    "# ✖️ Multiplication (element-wise)\n",
    "multiplication = arr1 * arr2\n",
    "print(f\"Element-wise multiplication: {multiplication}\")  # [5, 12, 21, 32]\n",
    "\n",
    "# ➗ Division\n",
    "division = arr2 / arr1\n",
    "print(f\"Division: {division}\")  # [5.0, 3.0, 2.33, 2.0]\n",
    "\n",
    "# 🔋 Power operation\n",
    "power = arr1 ** 2\n",
    "print(f\"Square: {power}\")  # [1, 4, 9, 16]"
   ],
   "id": "dfa1c7b604a14409",
   "outputs": [
    {
     "name": "stdout",
     "output_type": "stream",
     "text": [
      "Addition: [ 6  8 10 12]\n",
      "Subtraction: [4 4 4 4]\n",
      "Element-wise multiplication: [ 5 12 21 32]\n",
      "Division: [5.         3.         2.33333333 2.        ]\n",
      "Square: [ 1  4  9 16]\n"
     ]
    }
   ],
   "execution_count": 48
  },
  {
   "metadata": {},
   "cell_type": "markdown",
   "source": "### 📏 **Array Properties**",
   "id": "80a3d6a11e4503c3"
  },
  {
   "metadata": {
    "ExecuteTime": {
     "end_time": "2025-08-13T09:13:37.707743Z",
     "start_time": "2025-08-13T09:13:37.701300Z"
    }
   },
   "cell_type": "code",
   "source": [
    "# 🎯 Sample array for exploration\n",
    "sample_array = np.array([[1, 2, 3], [4, 5, 6], [7, 8, 9]])\n",
    "\n",
    "print(\"🔍 Array Exploration:\")\n",
    "print(f\"Array:\\n{sample_array}\")\n",
    "print(f\"Shape: {sample_array.shape}\")  # (3, 3)\n",
    "print(f\"Size: {sample_array.size}\")  # 9 total elements\n",
    "print(f\"Dimensions: {sample_array.ndim}\")  # 2 dimensions\n",
    "print(f\"Data type: {sample_array.dtype}\")  # int64 (or int32 on some systems)\n",
    "print(f\"Item size: {sample_array.itemsize}\")  # 8 bytes per element"
   ],
   "id": "efd2dc909cc6cb31",
   "outputs": [
    {
     "name": "stdout",
     "output_type": "stream",
     "text": [
      "🔍 Array Exploration:\n",
      "Array:\n",
      "[[1 2 3]\n",
      " [4 5 6]\n",
      " [7 8 9]]\n",
      "Shape: (3, 3)\n",
      "Size: 9\n",
      "Dimensions: 2\n",
      "Data type: int64\n",
      "Item size: 8\n"
     ]
    }
   ],
   "execution_count": 49
  },
  {
   "metadata": {},
   "cell_type": "markdown",
   "source": [
    "## 📈 **Mathematical Operations**\n",
    "\n",
    "### 🔢 **Statistical Functions**"
   ],
   "id": "7d94bd6ad5116cda"
  },
  {
   "metadata": {
    "ExecuteTime": {
     "end_time": "2025-08-13T09:13:37.739244Z",
     "start_time": "2025-08-13T09:13:37.731293Z"
    }
   },
   "cell_type": "code",
   "source": [
    "# 📊 Create sample data\n",
    "data = np.array([1, 2, 3, 4, 5, 6, 7, 8, 9, 10])\n",
    "\n",
    "print(\"📊 Statistical Analysis:\")\n",
    "print(f\"Data: {data}\")\n",
    "print(f\"Mean: {np.mean(data)}\")  # 5.5\n",
    "print(f\"Median: {np.median(data)}\")  # 5.5\n",
    "print(f\"Standard Deviation: {np.std(data)}\")  # ~2.87\n",
    "print(f\"Variance: {np.var(data)}\")  # ~8.25\n",
    "print(f\"Min: {np.min(data)}\")  # 1\n",
    "print(f\"Max: {np.max(data)}\")  # 10\n",
    "print(f\"Sum: {np.sum(data)}\")  # 55"
   ],
   "id": "c755b698278d2a2e",
   "outputs": [
    {
     "name": "stdout",
     "output_type": "stream",
     "text": [
      "📊 Statistical Analysis:\n",
      "Data: [ 1  2  3  4  5  6  7  8  9 10]\n",
      "Mean: 5.5\n",
      "Median: 5.5\n",
      "Standard Deviation: 2.8722813232690143\n",
      "Variance: 8.25\n",
      "Min: 1\n",
      "Max: 10\n",
      "Sum: 55\n"
     ]
    }
   ],
   "execution_count": 50
  },
  {
   "metadata": {},
   "cell_type": "markdown",
   "source": "### 🧮 **Mathematical Functions**",
   "id": "1c04ae719fac283d"
  },
  {
   "metadata": {
    "ExecuteTime": {
     "end_time": "2025-08-13T09:13:37.773230Z",
     "start_time": "2025-08-13T09:13:37.764045Z"
    }
   },
   "cell_type": "code",
   "source": [
    "# 📐 Trigonometric functions\n",
    "angles = np.array([0, np.pi / 4, np.pi / 2, np.pi])\n",
    "print(\"📐 Trigonometry:\")\n",
    "print(f\"Angles: {angles}\")\n",
    "print(f\"Sin: {np.sin(angles)}\")\n",
    "print(f\"Cos: {np.cos(angles)}\")\n",
    "print(f\"Tan: {np.tan(angles)}\")\n",
    "\n",
    "# 🔢 Exponential and logarithmic\n",
    "numbers = np.array([1, 2, 3, 4, 5])\n",
    "print(\"\\n🔢 Exponential & Logarithmic:\")\n",
    "print(f\"Numbers: {numbers}\")\n",
    "print(f\"Exponential: {np.exp(numbers)}\")\n",
    "print(f\"Natural log: {np.log(numbers)}\")\n",
    "print(f\"Log base 10: {np.log10(numbers)}\")\n",
    "print(f\"Square root: {np.sqrt(numbers)}\")"
   ],
   "id": "82531ae359ec01c1",
   "outputs": [
    {
     "name": "stdout",
     "output_type": "stream",
     "text": [
      "📐 Trigonometry:\n",
      "Angles: [0.         0.78539816 1.57079633 3.14159265]\n",
      "Sin: [0.00000000e+00 7.07106781e-01 1.00000000e+00 1.22464680e-16]\n",
      "Cos: [ 1.00000000e+00  7.07106781e-01  6.12323400e-17 -1.00000000e+00]\n",
      "Tan: [ 0.00000000e+00  1.00000000e+00  1.63312394e+16 -1.22464680e-16]\n",
      "\n",
      "🔢 Exponential & Logarithmic:\n",
      "Numbers: [1 2 3 4 5]\n",
      "Exponential: [  2.71828183   7.3890561   20.08553692  54.59815003 148.4131591 ]\n",
      "Natural log: [0.         0.69314718 1.09861229 1.38629436 1.60943791]\n",
      "Log base 10: [0.         0.30103    0.47712125 0.60205999 0.69897   ]\n",
      "Square root: [1.         1.41421356 1.73205081 2.         2.23606798]\n"
     ]
    }
   ],
   "execution_count": 51
  },
  {
   "metadata": {},
   "cell_type": "markdown",
   "source": [
    "### 🎯 **Broadcasting**\n",
    "\n",
    "Broadcasting allows operations between arrays of different shapes:"
   ],
   "id": "63b4c4b817d8045f"
  },
  {
   "metadata": {
    "ExecuteTime": {
     "end_time": "2025-08-13T09:13:37.807995Z",
     "start_time": "2025-08-13T09:13:37.800594Z"
    }
   },
   "cell_type": "code",
   "source": [
    "# 📊 Broadcasting example\n",
    "matrix = np.array([[1, 2, 3],\n",
    "                   [4, 5, 6],\n",
    "                   [7, 8, 9]])\n",
    "\n",
    "vector = np.array([10, 20, 30])\n",
    "vector2 = np.array([[10], [20], [30]])\n",
    "\n",
    "# 🔥 Broadcasting in action\n",
    "result = matrix + vector  # Adds vector to each row of matrix\n",
    "result2 = matrix + vector2\n",
    "\n",
    "print(\"🔥 Broadcasting Result:\")\n",
    "print(f\"Matrix + Vector:\\n{result}\")\n",
    "print(f\"Matrix + Vector2:\\n{result2}\")\n",
    "\n",
    "# 📈 Scalar broadcasting\n",
    "scalar_result = matrix * 10  # Multiplies every element by 10\n",
    "print(f\"Matrix * 10:\\n{scalar_result}\")"
   ],
   "id": "518c747429c41226",
   "outputs": [
    {
     "name": "stdout",
     "output_type": "stream",
     "text": [
      "🔥 Broadcasting Result:\n",
      "Matrix + Vector:\n",
      "[[11 22 33]\n",
      " [14 25 36]\n",
      " [17 28 39]]\n",
      "Matrix + Vector2:\n",
      "[[11 12 13]\n",
      " [24 25 26]\n",
      " [37 38 39]]\n",
      "Matrix * 10:\n",
      "[[10 20 30]\n",
      " [40 50 60]\n",
      " [70 80 90]]\n"
     ]
    }
   ],
   "execution_count": 52
  },
  {
   "metadata": {},
   "cell_type": "markdown",
   "source": [
    "## 🖼️ **Image Processing Basics**\n",
    "\n",
    "### 🎨 **Images as Matrices**\n",
    "\n",
    "Understanding how images are stored as numerical arrays:"
   ],
   "id": "6f32584b3e8a6c74"
  },
  {
   "metadata": {
    "ExecuteTime": {
     "end_time": "2025-08-13T09:13:37.841309Z",
     "start_time": "2025-08-13T09:13:37.836077Z"
    }
   },
   "cell_type": "code",
   "source": [
    "# 🖼️ Create a simple \"image\" (grayscale)\n",
    "# In real images: 0 = black, 255 = white\n",
    "simple_image = np.array([\n",
    "    [0, 50, 100, 150, 200],\n",
    "    [25, 75, 125, 175, 225],\n",
    "    [50, 100, 150, 200, 255],\n",
    "    [75, 125, 175, 225, 200],\n",
    "    [100, 150, 200, 150, 100]\n",
    "])\n",
    "\n",
    "print(\"🖼️ Simple Grayscale Image Matrix:\")\n",
    "print(simple_image)\n",
    "print(f\"Image shape: {simple_image.shape}\")  # (5, 5)"
   ],
   "id": "e74d60c110f63b59",
   "outputs": [
    {
     "name": "stdout",
     "output_type": "stream",
     "text": [
      "🖼️ Simple Grayscale Image Matrix:\n",
      "[[  0  50 100 150 200]\n",
      " [ 25  75 125 175 225]\n",
      " [ 50 100 150 200 255]\n",
      " [ 75 125 175 225 200]\n",
      " [100 150 200 150 100]]\n",
      "Image shape: (5, 5)\n"
     ]
    }
   ],
   "execution_count": 53
  },
  {
   "metadata": {},
   "cell_type": "markdown",
   "source": [
    "### 🌙 **Dark Mode Conversion**\n",
    "\n",
    "Converting images to dark mode (inverting pixel values):"
   ],
   "id": "daf325a2673df19b"
  },
  {
   "metadata": {
    "ExecuteTime": {
     "end_time": "2025-08-13T09:13:37.855786Z",
     "start_time": "2025-08-13T09:13:37.850258Z"
    }
   },
   "cell_type": "code",
   "source": [
    "# 🌙 Dark mode conversion (invert grayscale values)\n",
    "def convert_to_dark_mode(image_array):\n",
    "    \"\"\"\n",
    "    Convert grayscale image to dark mode by inverting values\n",
    "    Formula: dark_pixel = 255 - original_pixel\n",
    "    \"\"\"\n",
    "    return 255 - image_array\n",
    "\n",
    "\n",
    "# 🎯 Apply dark mode conversion\n",
    "dark_image = convert_to_dark_mode(simple_image)\n",
    "\n",
    "print(\"\\n🌙 Dark Mode Conversion:\")\n",
    "print(\"Original image:\")\n",
    "print(simple_image)\n",
    "print(\"\\nDark mode image:\")\n",
    "print(dark_image)\n",
    "\n",
    "# 📊 Comparison\n",
    "print(f\"\\nOriginal range: {simple_image.min()} to {simple_image.max()}\")\n",
    "print(f\"Dark mode range: {dark_image.min()} to {dark_image.max()}\")"
   ],
   "id": "8fc5177aa951a92b",
   "outputs": [
    {
     "name": "stdout",
     "output_type": "stream",
     "text": [
      "\n",
      "🌙 Dark Mode Conversion:\n",
      "Original image:\n",
      "[[  0  50 100 150 200]\n",
      " [ 25  75 125 175 225]\n",
      " [ 50 100 150 200 255]\n",
      " [ 75 125 175 225 200]\n",
      " [100 150 200 150 100]]\n",
      "\n",
      "Dark mode image:\n",
      "[[255 205 155 105  55]\n",
      " [230 180 130  80  30]\n",
      " [205 155 105  55   0]\n",
      " [180 130  80  30  55]\n",
      " [155 105  55 105 155]]\n",
      "\n",
      "Original range: 0 to 255\n",
      "Dark mode range: 0 to 255\n"
     ]
    }
   ],
   "execution_count": 54
  },
  {
   "metadata": {},
   "cell_type": "markdown",
   "source": [
    "### 🎨 **Color Images (RGB)**\n",
    "\n",
    "Working with color images represented as 3D arrays:"
   ],
   "id": "d7f3e7f288d79e5d"
  },
  {
   "metadata": {
    "ExecuteTime": {
     "end_time": "2025-08-13T09:13:37.883223Z",
     "start_time": "2025-08-13T09:13:37.876020Z"
    }
   },
   "cell_type": "code",
   "source": [
    "# 🌈 Create a simple color image (RGB)\n",
    "# Shape: (height, width, channels) where channels = [R, G, B]\n",
    "color_image = np.array([\n",
    "    [[255, 0, 0], [0, 255, 0], [0, 0, 255]],  # Red, Green, Blue pixels\n",
    "    [[255, 255, 0], [255, 0, 255], [0, 255, 255]],  # Yellow, Magenta, Cyan pixels\n",
    "    [[128, 128, 128], [64, 64, 64], [192, 192, 192]]  # Gray shades\n",
    "])\n",
    "\n",
    "print(\"🌈 Color Image Shape:\", color_image.shape)  # (3, 3, 3)\n",
    "print(\"RGB values for first pixel:\", color_image[0, 0])  # [255, 0, 0] = Red\n",
    "\n",
    "# 🎨 Extract individual color channels\n",
    "red_channel = color_image[:, :, 0]\n",
    "green_channel = color_image[:, :, 1]\n",
    "blue_channel = color_image[:, :, 2]\n",
    "\n",
    "print(\"\\n📊 Color Channels:\")\n",
    "print(f\"Red channel:\\n{red_channel}\")\n",
    "print(f\"Green channel:\\n{green_channel}\")\n",
    "print(f\"Blue channel:\\n{blue_channel}\")"
   ],
   "id": "5aeb5a0384e8e1c",
   "outputs": [
    {
     "name": "stdout",
     "output_type": "stream",
     "text": [
      "🌈 Color Image Shape: (3, 3, 3)\n",
      "RGB values for first pixel: [255   0   0]\n",
      "\n",
      "📊 Color Channels:\n",
      "Red channel:\n",
      "[[255   0   0]\n",
      " [255 255   0]\n",
      " [128  64 192]]\n",
      "Green channel:\n",
      "[[  0 255   0]\n",
      " [255   0 255]\n",
      " [128  64 192]]\n",
      "Blue channel:\n",
      "[[  0   0 255]\n",
      " [  0 255 255]\n",
      " [128  64 192]]\n"
     ]
    }
   ],
   "execution_count": 55
  },
  {
   "metadata": {},
   "cell_type": "markdown",
   "source": [
    "## ⚡ **Performance & Optimization**\n",
    "\n",
    "### 🔬 **Memory Usage Analysis**"
   ],
   "id": "7aa09829c448aec6"
  },
  {
   "metadata": {
    "ExecuteTime": {
     "end_time": "2025-08-13T09:13:38.040801Z",
     "start_time": "2025-08-13T09:13:37.905119Z"
    }
   },
   "cell_type": "code",
   "source": [
    "import sys\n",
    "\n",
    "# 📊 Compare memory usage\n",
    "python_list = [1, 2, 3, 4, 5] * 100000  # 500,000 integers\n",
    "numpy_array = np.array(python_list)\n",
    "\n",
    "list_memory = sys.getsizeof(python_list) + sum(sys.getsizeof(i) for i in python_list)\n",
    "array_memory = numpy_array.nbytes\n",
    "\n",
    "print(\"💾 Memory Usage Comparison:\")\n",
    "print(f\"Python List: {list_memory:,} bytes\")\n",
    "print(f\"NumPy Array: {array_memory:,} bytes\")\n",
    "print(f\"Memory Saved: {((list_memory - array_memory) / list_memory) * 100:.1f}%\")"
   ],
   "id": "b0202bd4361be995",
   "outputs": [
    {
     "name": "stdout",
     "output_type": "stream",
     "text": [
      "💾 Memory Usage Comparison:\n",
      "Python List: 18,000,056 bytes\n",
      "NumPy Array: 4,000,000 bytes\n",
      "Memory Saved: 77.8%\n"
     ]
    }
   ],
   "execution_count": 56
  },
  {
   "metadata": {},
   "cell_type": "markdown",
   "source": "### 🚀 **Vectorization Benefits**",
   "id": "f944aa26eb231d3a"
  },
  {
   "metadata": {
    "ExecuteTime": {
     "end_time": "2025-08-13T09:13:38.309757Z",
     "start_time": "2025-08-13T09:13:38.058509Z"
    }
   },
   "cell_type": "code",
   "source": [
    "# 🏃‍♂️ Vectorized vs Loop comparison\n",
    "def slow_operation(arr):\n",
    "    \"\"\"Slow: Using Python loop\"\"\"\n",
    "    result = []\n",
    "    for x in arr:\n",
    "        result.append(x ** 2 + 2 * x + 1)\n",
    "    return result\n",
    "\n",
    "\n",
    "def fast_operation(arr):\n",
    "    \"\"\"Fast: Using NumPy vectorization\"\"\"\n",
    "    return arr ** 2 + 2 * arr + 1\n",
    "\n",
    "\n",
    "# 📊 Performance test\n",
    "large_array = np.arange(1000000)\n",
    "large_list = large_array.tolist()\n",
    "\n",
    "# ⏱️ Time the operations\n",
    "import time\n",
    "\n",
    "# Slow method\n",
    "start = time.time()\n",
    "slow_result = slow_operation(large_list)\n",
    "slow_time = time.time() - start\n",
    "\n",
    "# Fast method\n",
    "start = time.time()\n",
    "fast_result = fast_operation(large_array)\n",
    "fast_time = time.time() - start\n",
    "\n",
    "print(\"🚀 Vectorization Performance:\")\n",
    "print(f\"Loop method: {slow_time:.4f} seconds\")\n",
    "print(f\"Vectorized method: {fast_time:.6f} seconds\")\n",
    "print(f\"Speedup: {slow_time / fast_time:.1f}x faster!\")"
   ],
   "id": "9e346dd0dcdb1d4c",
   "outputs": [
    {
     "name": "stdout",
     "output_type": "stream",
     "text": [
      "🚀 Vectorization Performance:\n",
      "Loop method: 0.1764 seconds\n",
      "Vectorized method: 0.014723 seconds\n",
      "Speedup: 12.0x faster!\n"
     ]
    }
   ],
   "execution_count": 57
  },
  {
   "metadata": {},
   "cell_type": "markdown",
   "source": [
    "## 💡 **Best Practices**\n",
    "\n",
    "### ✅ **Do's**\n",
    "\n",
    "1. **🏷️ Use Standard Import Convention**\n",
    "   ```python\n",
    "   import numpy as np  # Always use 'np' alias\n",
    "   ```\n",
    "\n",
    "2. **🎯 Choose Appropriate Data Types**\n",
    "   ```python\n",
    "   # For integers\n",
    "   int_array = np.array([1, 2, 3], dtype=np.int32)\n",
    "\n",
    "   # For floating point\n",
    "   float_array = np.array([1.0, 2.0, 3.0], dtype=np.float64)\n",
    "\n",
    "   # For booleans\n",
    "   bool_array = np.array([True, False, True], dtype=bool)\n",
    "   ```\n",
    "\n",
    "3. **🔄 Use Vectorized Operations**\n",
    "   ```python\n",
    "   # ✅ Good: Vectorized\n",
    "   result = array1 + array2\n",
    "\n",
    "   # ❌ Bad: Manual loop\n",
    "   result = [a + b for a, b in zip(array1, array2)]\n",
    "   ```\n",
    "\n",
    "4. **💾 Preallocate Arrays When Possible**\n",
    "   ```python\n",
    "   # ✅ Good: Preallocate\n",
    "   result = np.zeros((1000, 1000))\n",
    "   for i in range(1000):\n",
    "       result[i] = some_calculation()\n",
    "\n",
    "   # ❌ Bad: Growing arrays\n",
    "   result = []\n",
    "   for i in range(1000):\n",
    "       result.append(some_calculation())\n",
    "   result = np.array(result)\n",
    "   ```\n",
    "\n",
    "### ❌ **Don'ts**\n",
    "\n",
    "1. **🚫 Don't Mix Different Data Types Unnecessarily**\n",
    "   ```python\n",
    "   # ❌ Bad: Mixed types force object dtype\n",
    "   mixed_array = np.array([1, 2.5, 'hello'])  # dtype=object (slow!)\n",
    "\n",
    "   # ✅ Good: Homogeneous types\n",
    "   numeric_array = np.array([1, 2, 3])  # dtype=int64 (fast!)\n",
    "   ```\n",
    "\n",
    "2. **🚫 Don't Use Loops for Array Operations**\n",
    "   ```python\n",
    "   # ❌ Bad: Manual loops\n",
    "   for i in range(len(array)):\n",
    "       array[i] = array[i] ** 2\n",
    "\n",
    "   # ✅ Good: Vectorized\n",
    "   array = array ** 2\n",
    "   ```\n",
    "\n",
    "3. **🚫 Don't Ignore Memory Layout**\n",
    "   ```python\n",
    "   # 🎯 For better performance, consider array ordering\n",
    "   # C-order (row-major) vs F-order (column-major)\n",
    "   c_array = np.array([[1, 2], [3, 4]], order='C')  # Default\n",
    "   f_array = np.array([[1, 2], [3, 4]], order='F')  # Fortran-style\n",
    "   ```\n"
   ],
   "id": "735fdbc091f6cea2"
  },
  {
   "metadata": {},
   "cell_type": "markdown",
   "source": [
    "## 🎓 **Advanced Topics**\n",
    "\n",
    "### 🔍 **Advanced Indexing**\n",
    "\n",
    "```python\n",
    "# 🎯 Boolean indexing\n",
    "arr = np.array([1, 2, 3, 4, 5, 6, 7, 8, 9, 10])\n",
    "\n",
    "# Find elements greater than 5\n",
    "mask = arr > 5\n",
    "filtered = arr[mask]\n",
    "print(f\"Elements > 5: {filtered}\")  # [6, 7, 8, 9, 10]\n",
    "\n",
    "# 🎪 Fancy indexing\n",
    "indices = np.array([0, 2, 4, 6])\n",
    "selected = arr[indices]\n",
    "print(f\"Selected elements: {selected}\")  # [1, 3, 5, 7]\n",
    "```\n",
    "\n",
    "### 🔄 **Array Reshaping**\n",
    "\n",
    "```python\n",
    "# 📐 Reshape operations\n",
    "original = np.arange(12)\n",
    "print(f\"Original: {original}\")  # [0, 1, 2, ..., 11]\n",
    "\n",
    "# Reshape to different dimensions\n",
    "matrix_2x6 = original.reshape(2, 6)\n",
    "matrix_3x4 = original.reshape(3, 4)\n",
    "matrix_2x2x3 = original.reshape(2, 2, 3)\n",
    "\n",
    "print(f\"2x6 matrix:\\n{matrix_2x6}\")\n",
    "print(f\"3x4 matrix:\\n{matrix_3x4}\")\n",
    "print(f\"2x2x3 tensor:\\n{matrix_2x2x3}\")\n",
    "\n",
    "# 📏 Automatic dimension calculation\n",
    "auto_reshape = original.reshape(-1, 4)  # -1 means \"calculate automatically\"\n",
    "print(f\"Auto reshape (-1, 4):\\n{auto_reshape}\")  # 3x4 matrix\n",
    "```\n",
    "\n",
    "### 🔗 **Array Concatenation**\n",
    "\n",
    "```python\n",
    "# 🔗 Joining arrays\n",
    "arr1 = np.array([[1, 2], [3, 4]])\n",
    "arr2 = np.array([[5, 6], [7, 8]])\n",
    "\n",
    "# Vertical stacking (along rows)\n",
    "v_stack = np.vstack([arr1, arr2])\n",
    "print(f\"Vertical stack:\\n{v_stack}\")\n",
    "\n",
    "# Horizontal stacking (along columns)\n",
    "h_stack = np.hstack([arr1, arr2])\n",
    "print(f\"Horizontal stack:\\n{h_stack}\")\n",
    "\n",
    "# General concatenation\n",
    "concat_0 = np.concatenate([arr1, arr2], axis=0)  # Along rows\n",
    "concat_1 = np.concatenate([arr1, arr2], axis=1)  # Along columns\n",
    "```\n"
   ],
   "id": "36c7f2c9b7ef8675"
  }
 ],
 "metadata": {
  "kernelspec": {
   "display_name": "Python 3",
   "language": "python",
   "name": "python3"
  },
  "language_info": {
   "codemirror_mode": {
    "name": "ipython",
    "version": 2
   },
   "file_extension": ".py",
   "mimetype": "text/x-python",
   "name": "python",
   "nbconvert_exporter": "python",
   "pygments_lexer": "ipython2",
   "version": "2.7.6"
  }
 },
 "nbformat": 4,
 "nbformat_minor": 5
}
